{
 "cells": [
  {
   "cell_type": "markdown",
   "metadata": {},
   "source": [
    "# Part 02. 데이터 전처리\n",
    "\n",
    "R에서 데이터 전처리에 사용하는 패키지인 plyr, dplyr, reshape2, data.table에 대해 학습하는 장입니다.\n",
    "\n",
    "파이썬에서 유사한 기능을 구현하기 위해 다른 패키지들을 사용합니다.\n",
    "\n",
    "<br>\n",
    "\n",
    "-----------------"
   ]
  },
  {
   "cell_type": "markdown",
   "metadata": {},
   "source": [
    "## 4장. 패키지를 활용한 데이터 전처리\n",
    "\n",
    "<p style='color:#726a77; text-align:right'>홍준호 작성</p>\n",
    "\n",
    "### 3절 . reshape2\n",
    "\n",
    "- R에서 reshape2는 reshpe를 개선한 것으로 melt와 cast라는 핵심 함수가 있다. \n",
    "- python에서 melt를 사용하기 위해서는 <b>pandas</b> 패키지를 사용\n",
    "- python에서 cast 대신 <b>pivot_table()</b>를 사용 \n",
    "\n",
    "<b>pd.melt()</b> : 배열을 입력받아 함수를 적용한 후 데이터프레임으로 반환<br>\n",
    "<b>pivot_table()</b> : 데이터 프레임을 입력받아 함수를 적용한 후 데이터프레임으로 반환\n",
    "\n",
    "\n",
    "- 함수 사용법 : pd.melt(data,id_vars,var_name,value_name)\n",
    "- https://rfriend.tistory.com/278\n",
    "\n"
   ]
  },
  {
   "cell_type": "markdown",
   "metadata": {},
   "source": [
    "<b>[예제]</b> R의 airquality는 1973년 5~9월 동안 뉴욕의 일일 대기 질 측정량에 대한 데이터로, 153개의 행과 6개의 변수로 \\\n",
    "이루어져 있다. 6개의 변수 중 Month(월)과 Day(일)을 식별자로 두고, 나머지 변수와 변수 값은 모두 데이터 내에 포함되는 형태로 변환해보자. \n",
    "\n"
   ]
  },
  {
   "cell_type": "code",
   "execution_count": 1,
   "metadata": {},
   "outputs": [],
   "source": [
    "# 여기서는 R의 샘플 데이터를 편하게 받아오기 위해 rpy2 패키지의 함수를 사용함\n",
    "from rpy2.robjects import r, pandas2ri\n",
    "pandas2ri.activate()  # rpy2의 pandas 변환을 활성화 -->  R에서 pandas 개체로의 변환이 자동으로 수행됨\n",
    "r.data('airquality')        # r의 샘플데이터를 불러옴\n",
    "airquality = r['airquality']"
   ]
  },
  {
   "cell_type": "code",
   "execution_count": 2,
   "metadata": {},
   "outputs": [
    {
     "data": {
      "text/html": [
       "<div>\n",
       "<style scoped>\n",
       "    .dataframe tbody tr th:only-of-type {\n",
       "        vertical-align: middle;\n",
       "    }\n",
       "\n",
       "    .dataframe tbody tr th {\n",
       "        vertical-align: top;\n",
       "    }\n",
       "\n",
       "    .dataframe thead th {\n",
       "        text-align: right;\n",
       "    }\n",
       "</style>\n",
       "<table border=\"1\" class=\"dataframe\">\n",
       "  <thead>\n",
       "    <tr style=\"text-align: right;\">\n",
       "      <th></th>\n",
       "      <th>Ozone</th>\n",
       "      <th>Solar.R</th>\n",
       "      <th>Wind</th>\n",
       "      <th>Temp</th>\n",
       "      <th>Month</th>\n",
       "      <th>Day</th>\n",
       "    </tr>\n",
       "  </thead>\n",
       "  <tbody>\n",
       "    <tr>\n",
       "      <th>1</th>\n",
       "      <td>41</td>\n",
       "      <td>190</td>\n",
       "      <td>7.4</td>\n",
       "      <td>67</td>\n",
       "      <td>5</td>\n",
       "      <td>1</td>\n",
       "    </tr>\n",
       "    <tr>\n",
       "      <th>2</th>\n",
       "      <td>36</td>\n",
       "      <td>118</td>\n",
       "      <td>8.0</td>\n",
       "      <td>72</td>\n",
       "      <td>5</td>\n",
       "      <td>2</td>\n",
       "    </tr>\n",
       "    <tr>\n",
       "      <th>3</th>\n",
       "      <td>12</td>\n",
       "      <td>149</td>\n",
       "      <td>12.6</td>\n",
       "      <td>74</td>\n",
       "      <td>5</td>\n",
       "      <td>3</td>\n",
       "    </tr>\n",
       "    <tr>\n",
       "      <th>4</th>\n",
       "      <td>18</td>\n",
       "      <td>313</td>\n",
       "      <td>11.5</td>\n",
       "      <td>62</td>\n",
       "      <td>5</td>\n",
       "      <td>4</td>\n",
       "    </tr>\n",
       "    <tr>\n",
       "      <th>5</th>\n",
       "      <td>-2147483648</td>\n",
       "      <td>-2147483648</td>\n",
       "      <td>14.3</td>\n",
       "      <td>56</td>\n",
       "      <td>5</td>\n",
       "      <td>5</td>\n",
       "    </tr>\n",
       "    <tr>\n",
       "      <th>...</th>\n",
       "      <td>...</td>\n",
       "      <td>...</td>\n",
       "      <td>...</td>\n",
       "      <td>...</td>\n",
       "      <td>...</td>\n",
       "      <td>...</td>\n",
       "    </tr>\n",
       "    <tr>\n",
       "      <th>149</th>\n",
       "      <td>30</td>\n",
       "      <td>193</td>\n",
       "      <td>6.9</td>\n",
       "      <td>70</td>\n",
       "      <td>9</td>\n",
       "      <td>26</td>\n",
       "    </tr>\n",
       "    <tr>\n",
       "      <th>150</th>\n",
       "      <td>-2147483648</td>\n",
       "      <td>145</td>\n",
       "      <td>13.2</td>\n",
       "      <td>77</td>\n",
       "      <td>9</td>\n",
       "      <td>27</td>\n",
       "    </tr>\n",
       "    <tr>\n",
       "      <th>151</th>\n",
       "      <td>14</td>\n",
       "      <td>191</td>\n",
       "      <td>14.3</td>\n",
       "      <td>75</td>\n",
       "      <td>9</td>\n",
       "      <td>28</td>\n",
       "    </tr>\n",
       "    <tr>\n",
       "      <th>152</th>\n",
       "      <td>18</td>\n",
       "      <td>131</td>\n",
       "      <td>8.0</td>\n",
       "      <td>76</td>\n",
       "      <td>9</td>\n",
       "      <td>29</td>\n",
       "    </tr>\n",
       "    <tr>\n",
       "      <th>153</th>\n",
       "      <td>20</td>\n",
       "      <td>223</td>\n",
       "      <td>11.5</td>\n",
       "      <td>68</td>\n",
       "      <td>9</td>\n",
       "      <td>30</td>\n",
       "    </tr>\n",
       "  </tbody>\n",
       "</table>\n",
       "<p>153 rows × 6 columns</p>\n",
       "</div>"
      ],
      "text/plain": [
       "          Ozone     Solar.R  Wind  Temp  Month  Day\n",
       "1            41         190   7.4    67      5    1\n",
       "2            36         118   8.0    72      5    2\n",
       "3            12         149  12.6    74      5    3\n",
       "4            18         313  11.5    62      5    4\n",
       "5   -2147483648 -2147483648  14.3    56      5    5\n",
       "..          ...         ...   ...   ...    ...  ...\n",
       "149          30         193   6.9    70      9   26\n",
       "150 -2147483648         145  13.2    77      9   27\n",
       "151          14         191  14.3    75      9   28\n",
       "152          18         131   8.0    76      9   29\n",
       "153          20         223  11.5    68      9   30\n",
       "\n",
       "[153 rows x 6 columns]"
      ]
     },
     "execution_count": 2,
     "metadata": {},
     "output_type": "execute_result"
    }
   ],
   "source": [
    "airquality"
   ]
  },
  {
   "cell_type": "code",
   "execution_count": 4,
   "metadata": {},
   "outputs": [],
   "source": [
    "import pandas as pd \n",
    "import numpy as np "
   ]
  },
  {
   "cell_type": "code",
   "execution_count": 6,
   "metadata": {},
   "outputs": [
    {
     "data": {
      "text/html": [
       "<div>\n",
       "<style scoped>\n",
       "    .dataframe tbody tr th:only-of-type {\n",
       "        vertical-align: middle;\n",
       "    }\n",
       "\n",
       "    .dataframe tbody tr th {\n",
       "        vertical-align: top;\n",
       "    }\n",
       "\n",
       "    .dataframe thead th {\n",
       "        text-align: right;\n",
       "    }\n",
       "</style>\n",
       "<table border=\"1\" class=\"dataframe\">\n",
       "  <thead>\n",
       "    <tr style=\"text-align: right;\">\n",
       "      <th></th>\n",
       "      <th>Month</th>\n",
       "      <th>Day</th>\n",
       "      <th>variable</th>\n",
       "      <th>value</th>\n",
       "    </tr>\n",
       "  </thead>\n",
       "  <tbody>\n",
       "    <tr>\n",
       "      <th>0</th>\n",
       "      <td>5</td>\n",
       "      <td>1</td>\n",
       "      <td>Ozone</td>\n",
       "      <td>4.100000e+01</td>\n",
       "    </tr>\n",
       "    <tr>\n",
       "      <th>1</th>\n",
       "      <td>5</td>\n",
       "      <td>2</td>\n",
       "      <td>Ozone</td>\n",
       "      <td>3.600000e+01</td>\n",
       "    </tr>\n",
       "    <tr>\n",
       "      <th>2</th>\n",
       "      <td>5</td>\n",
       "      <td>3</td>\n",
       "      <td>Ozone</td>\n",
       "      <td>1.200000e+01</td>\n",
       "    </tr>\n",
       "    <tr>\n",
       "      <th>3</th>\n",
       "      <td>5</td>\n",
       "      <td>4</td>\n",
       "      <td>Ozone</td>\n",
       "      <td>1.800000e+01</td>\n",
       "    </tr>\n",
       "    <tr>\n",
       "      <th>4</th>\n",
       "      <td>5</td>\n",
       "      <td>5</td>\n",
       "      <td>Ozone</td>\n",
       "      <td>-2.147484e+09</td>\n",
       "    </tr>\n",
       "    <tr>\n",
       "      <th>...</th>\n",
       "      <td>...</td>\n",
       "      <td>...</td>\n",
       "      <td>...</td>\n",
       "      <td>...</td>\n",
       "    </tr>\n",
       "    <tr>\n",
       "      <th>607</th>\n",
       "      <td>9</td>\n",
       "      <td>26</td>\n",
       "      <td>Temp</td>\n",
       "      <td>7.000000e+01</td>\n",
       "    </tr>\n",
       "    <tr>\n",
       "      <th>608</th>\n",
       "      <td>9</td>\n",
       "      <td>27</td>\n",
       "      <td>Temp</td>\n",
       "      <td>7.700000e+01</td>\n",
       "    </tr>\n",
       "    <tr>\n",
       "      <th>609</th>\n",
       "      <td>9</td>\n",
       "      <td>28</td>\n",
       "      <td>Temp</td>\n",
       "      <td>7.500000e+01</td>\n",
       "    </tr>\n",
       "    <tr>\n",
       "      <th>610</th>\n",
       "      <td>9</td>\n",
       "      <td>29</td>\n",
       "      <td>Temp</td>\n",
       "      <td>7.600000e+01</td>\n",
       "    </tr>\n",
       "    <tr>\n",
       "      <th>611</th>\n",
       "      <td>9</td>\n",
       "      <td>30</td>\n",
       "      <td>Temp</td>\n",
       "      <td>6.800000e+01</td>\n",
       "    </tr>\n",
       "  </tbody>\n",
       "</table>\n",
       "<p>612 rows × 4 columns</p>\n",
       "</div>"
      ],
      "text/plain": [
       "     Month  Day variable         value\n",
       "0        5    1    Ozone  4.100000e+01\n",
       "1        5    2    Ozone  3.600000e+01\n",
       "2        5    3    Ozone  1.200000e+01\n",
       "3        5    4    Ozone  1.800000e+01\n",
       "4        5    5    Ozone -2.147484e+09\n",
       "..     ...  ...      ...           ...\n",
       "607      9   26     Temp  7.000000e+01\n",
       "608      9   27     Temp  7.700000e+01\n",
       "609      9   28     Temp  7.500000e+01\n",
       "610      9   29     Temp  7.600000e+01\n",
       "611      9   30     Temp  6.800000e+01\n",
       "\n",
       "[612 rows x 4 columns]"
      ]
     },
     "execution_count": 6,
     "metadata": {},
     "output_type": "execute_result"
    }
   ],
   "source": [
    "pd.melt(airquality,id_vars=['Month','Day'])"
   ]
  },
  {
   "cell_type": "markdown",
   "metadata": {},
   "source": [
    "------------------------------------------------------------------------------------------------------------\n",
    "\n",
    "\n",
    "<b>[예제2]</b> melt 함수에 대한 예제에서 airquality에 melt를 적용한 데이터를 air_melt에 저장하고, \\\n",
    "이 데이터를 다시 원래 airquality와 동일한 형태로 변환해보자. \n",
    "\n",
    "\n",
    "* 파이썬에서는 R의 dcast 함수가 없고 재정의 하는 pivot함수를 사용하면 재정리 가능 "
   ]
  },
  {
   "cell_type": "code",
   "execution_count": 41,
   "metadata": {},
   "outputs": [],
   "source": [
    "air_melt = pd.melt(airquality,id_vars=['Month','Day'])"
   ]
  },
  {
   "cell_type": "code",
   "execution_count": 43,
   "metadata": {
    "scrolled": true
   },
   "outputs": [
    {
     "data": {
      "text/html": [
       "<div>\n",
       "<style scoped>\n",
       "    .dataframe tbody tr th:only-of-type {\n",
       "        vertical-align: middle;\n",
       "    }\n",
       "\n",
       "    .dataframe tbody tr th {\n",
       "        vertical-align: top;\n",
       "    }\n",
       "\n",
       "    .dataframe thead tr th {\n",
       "        text-align: left;\n",
       "    }\n",
       "</style>\n",
       "<table border=\"1\" class=\"dataframe\">\n",
       "  <thead>\n",
       "    <tr>\n",
       "      <th></th>\n",
       "      <th>Month</th>\n",
       "      <th>Day</th>\n",
       "      <th colspan=\"4\" halign=\"left\">value</th>\n",
       "    </tr>\n",
       "    <tr>\n",
       "      <th>variable</th>\n",
       "      <th></th>\n",
       "      <th></th>\n",
       "      <th>Ozone</th>\n",
       "      <th>Solar.R</th>\n",
       "      <th>Temp</th>\n",
       "      <th>Wind</th>\n",
       "    </tr>\n",
       "  </thead>\n",
       "  <tbody>\n",
       "    <tr>\n",
       "      <th>0</th>\n",
       "      <td>5</td>\n",
       "      <td>1</td>\n",
       "      <td>4.100000e+01</td>\n",
       "      <td>1.900000e+02</td>\n",
       "      <td>67.0</td>\n",
       "      <td>7.4</td>\n",
       "    </tr>\n",
       "    <tr>\n",
       "      <th>1</th>\n",
       "      <td>5</td>\n",
       "      <td>2</td>\n",
       "      <td>3.600000e+01</td>\n",
       "      <td>1.180000e+02</td>\n",
       "      <td>72.0</td>\n",
       "      <td>8.0</td>\n",
       "    </tr>\n",
       "    <tr>\n",
       "      <th>2</th>\n",
       "      <td>5</td>\n",
       "      <td>3</td>\n",
       "      <td>1.200000e+01</td>\n",
       "      <td>1.490000e+02</td>\n",
       "      <td>74.0</td>\n",
       "      <td>12.6</td>\n",
       "    </tr>\n",
       "    <tr>\n",
       "      <th>3</th>\n",
       "      <td>5</td>\n",
       "      <td>4</td>\n",
       "      <td>1.800000e+01</td>\n",
       "      <td>3.130000e+02</td>\n",
       "      <td>62.0</td>\n",
       "      <td>11.5</td>\n",
       "    </tr>\n",
       "    <tr>\n",
       "      <th>4</th>\n",
       "      <td>5</td>\n",
       "      <td>5</td>\n",
       "      <td>-2.147484e+09</td>\n",
       "      <td>-2.147484e+09</td>\n",
       "      <td>56.0</td>\n",
       "      <td>14.3</td>\n",
       "    </tr>\n",
       "    <tr>\n",
       "      <th>...</th>\n",
       "      <td>...</td>\n",
       "      <td>...</td>\n",
       "      <td>...</td>\n",
       "      <td>...</td>\n",
       "      <td>...</td>\n",
       "      <td>...</td>\n",
       "    </tr>\n",
       "    <tr>\n",
       "      <th>148</th>\n",
       "      <td>9</td>\n",
       "      <td>26</td>\n",
       "      <td>3.000000e+01</td>\n",
       "      <td>1.930000e+02</td>\n",
       "      <td>70.0</td>\n",
       "      <td>6.9</td>\n",
       "    </tr>\n",
       "    <tr>\n",
       "      <th>149</th>\n",
       "      <td>9</td>\n",
       "      <td>27</td>\n",
       "      <td>-2.147484e+09</td>\n",
       "      <td>1.450000e+02</td>\n",
       "      <td>77.0</td>\n",
       "      <td>13.2</td>\n",
       "    </tr>\n",
       "    <tr>\n",
       "      <th>150</th>\n",
       "      <td>9</td>\n",
       "      <td>28</td>\n",
       "      <td>1.400000e+01</td>\n",
       "      <td>1.910000e+02</td>\n",
       "      <td>75.0</td>\n",
       "      <td>14.3</td>\n",
       "    </tr>\n",
       "    <tr>\n",
       "      <th>151</th>\n",
       "      <td>9</td>\n",
       "      <td>29</td>\n",
       "      <td>1.800000e+01</td>\n",
       "      <td>1.310000e+02</td>\n",
       "      <td>76.0</td>\n",
       "      <td>8.0</td>\n",
       "    </tr>\n",
       "    <tr>\n",
       "      <th>152</th>\n",
       "      <td>9</td>\n",
       "      <td>30</td>\n",
       "      <td>2.000000e+01</td>\n",
       "      <td>2.230000e+02</td>\n",
       "      <td>68.0</td>\n",
       "      <td>11.5</td>\n",
       "    </tr>\n",
       "  </tbody>\n",
       "</table>\n",
       "<p>153 rows × 6 columns</p>\n",
       "</div>"
      ],
      "text/plain": [
       "         Month Day         value                          \n",
       "variable                   Ozone       Solar.R  Temp  Wind\n",
       "0            5   1  4.100000e+01  1.900000e+02  67.0   7.4\n",
       "1            5   2  3.600000e+01  1.180000e+02  72.0   8.0\n",
       "2            5   3  1.200000e+01  1.490000e+02  74.0  12.6\n",
       "3            5   4  1.800000e+01  3.130000e+02  62.0  11.5\n",
       "4            5   5 -2.147484e+09 -2.147484e+09  56.0  14.3\n",
       "..         ...  ..           ...           ...   ...   ...\n",
       "148          9  26  3.000000e+01  1.930000e+02  70.0   6.9\n",
       "149          9  27 -2.147484e+09  1.450000e+02  77.0  13.2\n",
       "150          9  28  1.400000e+01  1.910000e+02  75.0  14.3\n",
       "151          9  29  1.800000e+01  1.310000e+02  76.0   8.0\n",
       "152          9  30  2.000000e+01  2.230000e+02  68.0  11.5\n",
       "\n",
       "[153 rows x 6 columns]"
      ]
     },
     "execution_count": 43,
     "metadata": {},
     "output_type": "execute_result"
    }
   ],
   "source": [
    "table1 = pd.pivot_table(air_melt,index=['Month','Day'], columns = 'variable')\n",
    "table1.reset_index()"
   ]
  },
  {
   "cell_type": "markdown",
   "metadata": {},
   "source": [
    "------------------------------------------------------------------------------------------------------------\n",
    "\n",
    "\n",
    "<b>[예제3]</b> 위 예제에서 생성한 air_melt데이터에서 Month와 Day를 기준으로 나머지 변수들의 평균값을 구해보자 \n"
   ]
  },
  {
   "cell_type": "code",
   "execution_count": 50,
   "metadata": {},
   "outputs": [
    {
     "data": {
      "text/html": [
       "<div>\n",
       "<style scoped>\n",
       "    .dataframe tbody tr th:only-of-type {\n",
       "        vertical-align: middle;\n",
       "    }\n",
       "\n",
       "    .dataframe tbody tr th {\n",
       "        vertical-align: top;\n",
       "    }\n",
       "\n",
       "    .dataframe thead tr th {\n",
       "        text-align: left;\n",
       "    }\n",
       "</style>\n",
       "<table border=\"1\" class=\"dataframe\">\n",
       "  <thead>\n",
       "    <tr>\n",
       "      <th></th>\n",
       "      <th>Month</th>\n",
       "      <th>Day</th>\n",
       "      <th colspan=\"4\" halign=\"left\">value</th>\n",
       "    </tr>\n",
       "    <tr>\n",
       "      <th>variable</th>\n",
       "      <th></th>\n",
       "      <th></th>\n",
       "      <th>Ozone</th>\n",
       "      <th>Solar.R</th>\n",
       "      <th>Temp</th>\n",
       "      <th>Wind</th>\n",
       "    </tr>\n",
       "  </thead>\n",
       "  <tbody>\n",
       "    <tr>\n",
       "      <th>0</th>\n",
       "      <td>5</td>\n",
       "      <td>1</td>\n",
       "      <td>4.100000e+01</td>\n",
       "      <td>1.900000e+02</td>\n",
       "      <td>67.0</td>\n",
       "      <td>7.4</td>\n",
       "    </tr>\n",
       "    <tr>\n",
       "      <th>1</th>\n",
       "      <td>5</td>\n",
       "      <td>2</td>\n",
       "      <td>3.600000e+01</td>\n",
       "      <td>1.180000e+02</td>\n",
       "      <td>72.0</td>\n",
       "      <td>8.0</td>\n",
       "    </tr>\n",
       "    <tr>\n",
       "      <th>2</th>\n",
       "      <td>5</td>\n",
       "      <td>3</td>\n",
       "      <td>1.200000e+01</td>\n",
       "      <td>1.490000e+02</td>\n",
       "      <td>74.0</td>\n",
       "      <td>12.6</td>\n",
       "    </tr>\n",
       "    <tr>\n",
       "      <th>3</th>\n",
       "      <td>5</td>\n",
       "      <td>4</td>\n",
       "      <td>1.800000e+01</td>\n",
       "      <td>3.130000e+02</td>\n",
       "      <td>62.0</td>\n",
       "      <td>11.5</td>\n",
       "    </tr>\n",
       "    <tr>\n",
       "      <th>4</th>\n",
       "      <td>5</td>\n",
       "      <td>5</td>\n",
       "      <td>-2.147484e+09</td>\n",
       "      <td>-2.147484e+09</td>\n",
       "      <td>56.0</td>\n",
       "      <td>14.3</td>\n",
       "    </tr>\n",
       "    <tr>\n",
       "      <th>...</th>\n",
       "      <td>...</td>\n",
       "      <td>...</td>\n",
       "      <td>...</td>\n",
       "      <td>...</td>\n",
       "      <td>...</td>\n",
       "      <td>...</td>\n",
       "    </tr>\n",
       "    <tr>\n",
       "      <th>148</th>\n",
       "      <td>9</td>\n",
       "      <td>26</td>\n",
       "      <td>3.000000e+01</td>\n",
       "      <td>1.930000e+02</td>\n",
       "      <td>70.0</td>\n",
       "      <td>6.9</td>\n",
       "    </tr>\n",
       "    <tr>\n",
       "      <th>149</th>\n",
       "      <td>9</td>\n",
       "      <td>27</td>\n",
       "      <td>-2.147484e+09</td>\n",
       "      <td>1.450000e+02</td>\n",
       "      <td>77.0</td>\n",
       "      <td>13.2</td>\n",
       "    </tr>\n",
       "    <tr>\n",
       "      <th>150</th>\n",
       "      <td>9</td>\n",
       "      <td>28</td>\n",
       "      <td>1.400000e+01</td>\n",
       "      <td>1.910000e+02</td>\n",
       "      <td>75.0</td>\n",
       "      <td>14.3</td>\n",
       "    </tr>\n",
       "    <tr>\n",
       "      <th>151</th>\n",
       "      <td>9</td>\n",
       "      <td>29</td>\n",
       "      <td>1.800000e+01</td>\n",
       "      <td>1.310000e+02</td>\n",
       "      <td>76.0</td>\n",
       "      <td>8.0</td>\n",
       "    </tr>\n",
       "    <tr>\n",
       "      <th>152</th>\n",
       "      <td>9</td>\n",
       "      <td>30</td>\n",
       "      <td>2.000000e+01</td>\n",
       "      <td>2.230000e+02</td>\n",
       "      <td>68.0</td>\n",
       "      <td>11.5</td>\n",
       "    </tr>\n",
       "  </tbody>\n",
       "</table>\n",
       "<p>153 rows × 6 columns</p>\n",
       "</div>"
      ],
      "text/plain": [
       "         Month Day         value                          \n",
       "variable                   Ozone       Solar.R  Temp  Wind\n",
       "0            5   1  4.100000e+01  1.900000e+02  67.0   7.4\n",
       "1            5   2  3.600000e+01  1.180000e+02  72.0   8.0\n",
       "2            5   3  1.200000e+01  1.490000e+02  74.0  12.6\n",
       "3            5   4  1.800000e+01  3.130000e+02  62.0  11.5\n",
       "4            5   5 -2.147484e+09 -2.147484e+09  56.0  14.3\n",
       "..         ...  ..           ...           ...   ...   ...\n",
       "148          9  26  3.000000e+01  1.930000e+02  70.0   6.9\n",
       "149          9  27 -2.147484e+09  1.450000e+02  77.0  13.2\n",
       "150          9  28  1.400000e+01  1.910000e+02  75.0  14.3\n",
       "151          9  29  1.800000e+01  1.310000e+02  76.0   8.0\n",
       "152          9  30  2.000000e+01  2.230000e+02  68.0  11.5\n",
       "\n",
       "[153 rows x 6 columns]"
      ]
     },
     "execution_count": 50,
     "metadata": {},
     "output_type": "execute_result"
    }
   ],
   "source": [
    "pd.pivot_table(air_melt,index= ['Month','Day'], columns = 'variable', aggfunc='mean').reset_index()"
   ]
  },
  {
   "cell_type": "markdown",
   "metadata": {},
   "source": [
    "\n",
    "### 4절 data.table \n",
    "\n",
    "- R에서 data.table 패키지는 연산속도가 매우 빨라 크기가 큰 데이터를 처리하거나 탐색하는데 유용하며, 그만큼 자주 사용하는 패키지이다. 데이터 테이블은 데이터 프레임과 동일하게 취급되므로 데이터 프레임에 적용할 수 있는 함수들을 데이터 테이블에 적용할 수도 있다. \n",
    "\n",
    "- 데이터 테이블 클래스는 데이터 테이블을 포함하고 있으므로 데이터 테이블은 데이터 프레임으로 변환해서 사용ㅇ이 가능하다. \n",
    "- 데이터 테이블은 데이터 프레임을 생성하는 것과 비슷한 문법으로 만들어낼 수 있으며, 관련함수들은 아래와 같다. \n",
    "\n",
    "\n",
    "<b>datatable_df = dt.fread(\"~.csv\")</b> : read_csv보다 훨씬 빠름 , 대용량의 데이터를 가져올 때 좋다 (100G까지) \n",
    "<b>pandas_df= datatable.to_pandas()</b> : 판다스로 변환하여 사용 가능 \n",
    "\n",
    "* Pandas에서는 통계량 값을 뽑을 때 메모리를 소모하지만, data.table은 그렇지 않음 \n",
    "- 큰 데이터에서 기초 통계량 작업을 하다가 메모리 초과현상이 많이 나타나 data.table이 유용하다고 함 \n",
    "\n",
    "\n"
   ]
  },
  {
   "cell_type": "code",
   "execution_count": 67,
   "metadata": {},
   "outputs": [],
   "source": [
    "##!pip3 install datatable\n",
    "\n",
    "import datatable as dt\n",
    "\n"
   ]
  },
  {
   "cell_type": "code",
   "execution_count": 68,
   "metadata": {},
   "outputs": [
    {
     "name": "stdout",
     "output_type": "stream",
     "text": [
      "<class 'datatable.Frame'>\n",
      "Wall time: 1.53 ms\n"
     ]
    }
   ],
   "source": [
    "%%time\n",
    "datatable_df = dt.fread(\"Fruits.csv\")\n",
    "\n",
    "print(type(datatable_df))\n",
    "\n"
   ]
  },
  {
   "cell_type": "code",
   "execution_count": 69,
   "metadata": {},
   "outputs": [
    {
     "name": "stdout",
     "output_type": "stream",
     "text": [
      "<class 'pandas.core.frame.DataFrame'>\n",
      "Wall time: 4 ms\n"
     ]
    }
   ],
   "source": [
    "%%time\n",
    "pandas_df= pd.read_csv(\"Fruits.csv\")\n",
    "print(type(pandas_df))"
   ]
  },
  {
   "cell_type": "code",
   "execution_count": 70,
   "metadata": {},
   "outputs": [
    {
     "name": "stdout",
     "output_type": "stream",
     "text": [
      "Wall time: 2 ms\n"
     ]
    }
   ],
   "source": [
    "%%time\n",
    "datatable_pandas = datatable_df.to_pandas()"
   ]
  },
  {
   "cell_type": "markdown",
   "metadata": {},
   "source": [
    "* 파일을 데이터 테이블 프레임으로 읽은 다음 pandas 데이터 프레임으로 변환하는 것은 pandas 데이터 프레임을 읽는 것보다 시간이 덜 걸립니다. 따라서 데이터 테이블을 통해 대용량 데이터 파일을 가져온 다음 pandas 데이터 프레임으로 변환하는 것이 좋습니다.\n",
    "\n",
    "* https://towardsdatascience.com/an-overview-of-pythons-datatable-package-5d3a97394ee9"
   ]
  },
  {
   "cell_type": "code",
   "execution_count": 71,
   "metadata": {},
   "outputs": [
    {
     "data": {
      "text/html": [
       "<div class='datatable'>\n",
       "  <table class='frame'>\n",
       "  <thead>\n",
       "    <tr class='colnames'><td class='row_index'></td><th>Fruit</th><th>Year</th><th>Location</th><th>Sales</th><th>Expenses</th><th>Profit</th><th>Date</th></tr>\n",
       "    <tr class='coltypes'><td class='row_index'></td><td class='str' title='str32'>&#x25AA;&#x25AA;&#x25AA;&#x25AA;</td><td class='int' title='int32'>&#x25AA;&#x25AA;&#x25AA;&#x25AA;</td><td class='str' title='str32'>&#x25AA;&#x25AA;&#x25AA;&#x25AA;</td><td class='int' title='int32'>&#x25AA;&#x25AA;&#x25AA;&#x25AA;</td><td class='int' title='int32'>&#x25AA;&#x25AA;&#x25AA;&#x25AA;</td><td class='int' title='int32'>&#x25AA;&#x25AA;&#x25AA;&#x25AA;</td><td class='str' title='str32'>&#x25AA;&#x25AA;&#x25AA;&#x25AA;</td></tr>\n",
       "  </thead>\n",
       "  <tbody>\n",
       "    <tr><td class='row_index'>0</td><td>Apples</td><td>2008</td><td>West</td><td>98</td><td>78</td><td>20</td><td>2008-12-31</td></tr>\n",
       "    <tr><td class='row_index'>1</td><td>Apples</td><td>2009</td><td>West</td><td>111</td><td>79</td><td>32</td><td>2009-12-31</td></tr>\n",
       "    <tr><td class='row_index'>2</td><td>Apples</td><td>2010</td><td>West</td><td>89</td><td>76</td><td>13</td><td>2010-12-31</td></tr>\n",
       "    <tr><td class='row_index'>3</td><td>Oranges</td><td>2008</td><td>East</td><td>96</td><td>81</td><td>15</td><td>2008-12-31</td></tr>\n",
       "    <tr><td class='row_index'>4</td><td>Bananas</td><td>2008</td><td>East</td><td>85</td><td>76</td><td>9</td><td>2008-12-31</td></tr>\n",
       "    <tr><td class='row_index'>5</td><td>Oranges</td><td>2009</td><td>East</td><td>93</td><td>80</td><td>13</td><td>2009-12-31</td></tr>\n",
       "    <tr><td class='row_index'>6</td><td>Bananas</td><td>2009</td><td>East</td><td>94</td><td>78</td><td>16</td><td>2009-12-31</td></tr>\n",
       "    <tr><td class='row_index'>7</td><td>Oranges</td><td>2010</td><td>East</td><td>98</td><td>91</td><td>7</td><td>2010-12-31</td></tr>\n",
       "    <tr><td class='row_index'>8</td><td>Bananas</td><td>2010</td><td>East</td><td>81</td><td>71</td><td>10</td><td>2010-12-31</td></tr>\n",
       "  </tbody>\n",
       "  </table>\n",
       "  <div class='footer'>\n",
       "    <div class='frame_dimensions'>9 rows &times; 7 columns</div>\n",
       "  </div>\n",
       "</div>\n"
      ],
      "text/plain": [
       "<Frame#25098d5a210 9x7>"
      ]
     },
     "execution_count": 71,
     "metadata": {},
     "output_type": "execute_result"
    }
   ],
   "source": [
    "datatable_df"
   ]
  },
  {
   "cell_type": "code",
   "execution_count": 75,
   "metadata": {},
   "outputs": [
    {
     "ename": "AttributeError",
     "evalue": "'datatable.Frame' object has no attribute 'groupby'",
     "output_type": "error",
     "traceback": [
      "\u001b[1;31m---------------------------------------------------------------------------\u001b[0m",
      "\u001b[1;31mAttributeError\u001b[0m                            Traceback (most recent call last)",
      "\u001b[1;32m<ipython-input-75-66dce1423453>\u001b[0m in \u001b[0;36m<module>\u001b[1;34m\u001b[0m\n\u001b[1;32m----> 1\u001b[1;33m \u001b[0mdatatable_df\u001b[0m\u001b[1;33m.\u001b[0m\u001b[0mgroupby\u001b[0m\u001b[1;33m(\u001b[0m\u001b[1;34m\"Fruit\"\u001b[0m\u001b[1;33m)\u001b[0m\u001b[1;33m.\u001b[0m\u001b[0mmean\u001b[0m\u001b[1;33m(\u001b[0m\u001b[1;33m)\u001b[0m\u001b[1;33m\u001b[0m\u001b[1;33m\u001b[0m\u001b[0m\n\u001b[0m",
      "\u001b[1;31mAttributeError\u001b[0m: 'datatable.Frame' object has no attribute 'groupby'"
     ]
    }
   ],
   "source": []
  },
  {
   "cell_type": "code",
   "execution_count": 76,
   "metadata": {},
   "outputs": [
    {
     "data": {
      "text/html": [
       "<div class='datatable'>\n",
       "  <table class='frame'>\n",
       "  <thead>\n",
       "    <tr class='colnames'><td class='row_index'></td><th>Fruit</th><th>Year</th><th>Location</th><th>Sales</th><th>Expenses</th><th>Profit</th><th>Date</th></tr>\n",
       "    <tr class='coltypes'><td class='row_index'></td><td class='float' title='float64'>&#x25AA;&#x25AA;&#x25AA;&#x25AA;&#x25AA;&#x25AA;&#x25AA;&#x25AA;</td><td class='float' title='float64'>&#x25AA;&#x25AA;&#x25AA;&#x25AA;&#x25AA;&#x25AA;&#x25AA;&#x25AA;</td><td class='float' title='float64'>&#x25AA;&#x25AA;&#x25AA;&#x25AA;&#x25AA;&#x25AA;&#x25AA;&#x25AA;</td><td class='float' title='float64'>&#x25AA;&#x25AA;&#x25AA;&#x25AA;&#x25AA;&#x25AA;&#x25AA;&#x25AA;</td><td class='float' title='float64'>&#x25AA;&#x25AA;&#x25AA;&#x25AA;&#x25AA;&#x25AA;&#x25AA;&#x25AA;</td><td class='float' title='float64'>&#x25AA;&#x25AA;&#x25AA;&#x25AA;&#x25AA;&#x25AA;&#x25AA;&#x25AA;</td><td class='float' title='float64'>&#x25AA;&#x25AA;&#x25AA;&#x25AA;&#x25AA;&#x25AA;&#x25AA;&#x25AA;</td></tr>\n",
       "  </thead>\n",
       "  <tbody>\n",
       "    <tr><td class='row_index'>0</td><td><span class=na>NA</span></td><td>2009</td><td><span class=na>NA</span></td><td>93.8889</td><td>78.8889</td><td>15</td><td><span class=na>NA</span></td></tr>\n",
       "  </tbody>\n",
       "  </table>\n",
       "  <div class='footer'>\n",
       "    <div class='frame_dimensions'>1 row &times; 7 columns</div>\n",
       "  </div>\n",
       "</div>\n"
      ],
      "text/plain": [
       "<Frame#25098a453c0 1x7>"
      ]
     },
     "execution_count": 76,
     "metadata": {},
     "output_type": "execute_result"
    }
   ],
   "source": [
    "datatable_df.mean()"
   ]
  },
  {
   "cell_type": "code",
   "execution_count": 78,
   "metadata": {},
   "outputs": [
    {
     "data": {
      "text/html": [
       "<div class='datatable'>\n",
       "  <table class='frame'>\n",
       "  <thead>\n",
       "    <tr class='colnames'><td class='row_index'></td><th>Fruit</th><th>Sales</th></tr>\n",
       "    <tr class='coltypes'><td class='row_index'></td><td class='str' title='str32'>&#x25AA;&#x25AA;&#x25AA;&#x25AA;</td><td class='int' title='int32'>&#x25AA;&#x25AA;&#x25AA;&#x25AA;</td></tr>\n",
       "  </thead>\n",
       "  <tbody>\n",
       "    <tr><td class='row_index'>0</td><td>Apples</td><td>98</td></tr>\n",
       "    <tr><td class='row_index'>1</td><td>Apples</td><td>111</td></tr>\n",
       "    <tr><td class='row_index'>2</td><td>Apples</td><td>89</td></tr>\n",
       "    <tr><td class='row_index'>3</td><td>Oranges</td><td>96</td></tr>\n",
       "    <tr><td class='row_index'>4</td><td>Bananas</td><td>85</td></tr>\n",
       "    <tr><td class='row_index'>5</td><td>Oranges</td><td>93</td></tr>\n",
       "    <tr><td class='row_index'>6</td><td>Bananas</td><td>94</td></tr>\n",
       "    <tr><td class='row_index'>7</td><td>Oranges</td><td>98</td></tr>\n",
       "    <tr><td class='row_index'>8</td><td>Bananas</td><td>81</td></tr>\n",
       "  </tbody>\n",
       "  </table>\n",
       "  <div class='footer'>\n",
       "    <div class='frame_dimensions'>9 rows &times; 2 columns</div>\n",
       "  </div>\n",
       "</div>\n"
      ],
      "text/plain": [
       "<Frame#25098a92f60 9x2>"
      ]
     },
     "execution_count": 78,
     "metadata": {},
     "output_type": "execute_result"
    }
   ],
   "source": [
    "## True False로 만들면 바로 뽑을 수도 있음.\n",
    "\n",
    "datatable_df[datatable_df[:,\"Expenses\"].to_numpy()>70,[\"Fruit\",\"Sales\"]]"
   ]
  },
  {
   "cell_type": "code",
   "execution_count": 79,
   "metadata": {},
   "outputs": [
    {
     "ename": "AttributeError",
     "evalue": "'datatable.Frame' object has no attribute 'groupby'",
     "output_type": "error",
     "traceback": [
      "\u001b[1;31m---------------------------------------------------------------------------\u001b[0m",
      "\u001b[1;31mAttributeError\u001b[0m                            Traceback (most recent call last)",
      "\u001b[1;32m<ipython-input-79-66dce1423453>\u001b[0m in \u001b[0;36m<module>\u001b[1;34m\u001b[0m\n\u001b[1;32m----> 1\u001b[1;33m \u001b[0mdatatable_df\u001b[0m\u001b[1;33m.\u001b[0m\u001b[0mgroupby\u001b[0m\u001b[1;33m(\u001b[0m\u001b[1;34m\"Fruit\"\u001b[0m\u001b[1;33m)\u001b[0m\u001b[1;33m.\u001b[0m\u001b[0mmean\u001b[0m\u001b[1;33m(\u001b[0m\u001b[1;33m)\u001b[0m\u001b[1;33m\u001b[0m\u001b[1;33m\u001b[0m\u001b[0m\n\u001b[0m",
      "\u001b[1;31mAttributeError\u001b[0m: 'datatable.Frame' object has no attribute 'groupby'"
     ]
    }
   ],
   "source": [
    "datatable_df.groupby(\"Fruit\").mean()\n",
    "\n",
    "##오류가 난다. datatable 연산에 대해 알아야함 "
   ]
  },
  {
   "cell_type": "code",
   "execution_count": 84,
   "metadata": {},
   "outputs": [],
   "source": [
    "a = datatable_df[:,dt.mean(dt.f.Expenses),dt.by(dt.f.Fruit)]\n",
    "\n",
    "##위에 보면 f라는 게 있는데 이것은 frame proxy라고 하고, Frame 연산할 때 쓰는 것 같습니다.\n"
   ]
  },
  {
   "cell_type": "code",
   "execution_count": 85,
   "metadata": {},
   "outputs": [
    {
     "data": {
      "text/html": [
       "<div class='datatable'>\n",
       "  <table class='frame'>\n",
       "  <thead>\n",
       "    <tr class='colnames'><td class='row_index'></td><th>Fruit</th><th>Expenses</th></tr>\n",
       "    <tr class='coltypes'><td class='row_index'></td><td class='str' title='str32'>&#x25AA;&#x25AA;&#x25AA;&#x25AA;</td><td class='float' title='float64'>&#x25AA;&#x25AA;&#x25AA;&#x25AA;&#x25AA;&#x25AA;&#x25AA;&#x25AA;</td></tr>\n",
       "  </thead>\n",
       "  <tbody>\n",
       "    <tr><td class='row_index'>0</td><td>Apples</td><td>77.6667</td></tr>\n",
       "    <tr><td class='row_index'>1</td><td>Bananas</td><td>75</td></tr>\n",
       "    <tr><td class='row_index'>2</td><td>Oranges</td><td>84</td></tr>\n",
       "  </tbody>\n",
       "  </table>\n",
       "  <div class='footer'>\n",
       "    <div class='frame_dimensions'>3 rows &times; 2 columns</div>\n",
       "  </div>\n",
       "</div>\n"
      ],
      "text/plain": [
       "<Frame#2509244da80 3x2>"
      ]
     },
     "execution_count": 85,
     "metadata": {},
     "output_type": "execute_result"
    }
   ],
   "source": [
    "a"
   ]
  },
  {
   "cell_type": "markdown",
   "metadata": {},
   "source": [
    "\n",
    "* 일단 이렇게 data.table에서 소개를 했는데,  실제 기능은 아직 Pandas 보다 떨어진다고 합니다. 하지만 현재 계속 개발 중이고, 원래 R을 쓰시다가 Python으로 넘어올 때, 급하게 빅데이터를 처리할 때 유용할 것 같습니다!"
   ]
  }
 ],
 "metadata": {
  "kernelspec": {
   "display_name": "Python 3",
   "language": "python",
   "name": "python3"
  },
  "language_info": {
   "codemirror_mode": {
    "name": "ipython",
    "version": 3
   },
   "file_extension": ".py",
   "mimetype": "text/x-python",
   "name": "python",
   "nbconvert_exporter": "python",
   "pygments_lexer": "ipython3",
   "version": "3.8.3"
  }
 },
 "nbformat": 4,
 "nbformat_minor": 4
}
