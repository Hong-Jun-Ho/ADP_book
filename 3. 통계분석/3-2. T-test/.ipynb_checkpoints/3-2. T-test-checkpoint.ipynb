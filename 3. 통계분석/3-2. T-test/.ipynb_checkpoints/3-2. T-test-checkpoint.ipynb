{
 "cells": [
  {
   "cell_type": "markdown",
   "metadata": {},
   "source": [
    "### Part 03. 통계분석\n",
    "\n",
    "<br>\n",
    "\n",
    "-----------------\n",
    "\n",
    "## 2장. T-test\n",
    "\n",
    "<p style='color:#726a77; text-align:right'>오민지 작성</p>\n",
    "\n",
    "### 1절. 일표본 T-검정 (One Sample T-Test)\n",
    "__가.__ 일표본 T-검정 개념   \n",
    "* 단일모집단에서 관심이 있는 연속형 변수의 평균값을 특정 기준값과 비교\n",
    "* 가정: 모집단의 구성요소들이 정규분포를 이룬다는 가정\n",
    "        * n>30, 중심극한정리에 따라 표본이 정규분포를 따른다고 가정함\n",
    "        * 종속변수는 연속형이어야함\n",
    "        * 검증하고자 하는 기준값이 있어야함\n",
    "        \n",
    "        \n",
    "__나.__ 일표본 T-검정 단계\n",
    "\n",
    "|1단계: |가설설정|  |\n",
    "|------|---|---|\n",
    "|모수|모평균(μ)|  |\n",
    "|귀무가설(H0)|μ=μ0|  |\n",
    "|대립가설(H1)|(1) 양측검정: |μ!=μ0|\n",
    "| |(2) 우단측검정: |μ>μ0|\n",
    "| |(3) 좌단측검정: |μ<μ0|\n",
    "      \n",
    "      \n",
    "|2단계: |유의수준 설정|          |\n",
    "|------|---|---|\n",
    "      \n",
    "      \n",
    "|3단계: |검정통계량의 값 및 유의확률 계산|  |\n",
    "|------|---|---|\n",
    "      \n",
    "      \n",
    "|4단계: |귀무가설의 기각여부 판단 및 의사결정|\n",
    "|------|---|\n",
    "|p-value:|유의확률|\n",
    "|α: | 유의수준|\n",
    "|p-value < α:|귀무가설을 기각하고, 대립가설을 채택|\n",
    "|p-value > α:|귀무가설을 기각하지 않음|\n",
    "\n",
    "![python image2](https://blog.kakaocdn.net/dn/bHUdcG/btqG5Mf7jDQ/4bjOIBQcMGe0XpfHvb6oM1/img.jpg)"
   ]
  },
  {
   "cell_type": "code",
   "execution_count": null,
   "metadata": {},
   "outputs": [],
   "source": []
  },
  {
   "cell_type": "markdown",
   "metadata": {},
   "source": [
    "__[예제]__  \n",
    "cats 데이터에서 고양이들의 평균몸무게가 2.6kg인지 아닌지통계적 검정을 수행하고, 결과 해석하기   \n",
    "(양측검정, 유의수준 = 0.05)"
   ]
  },
  {
   "cell_type": "code",
   "execution_count": 3,
   "metadata": {},
   "outputs": [
    {
     "data": {
      "text/html": [
       "<div>\n",
       "<style scoped>\n",
       "    .dataframe tbody tr th:only-of-type {\n",
       "        vertical-align: middle;\n",
       "    }\n",
       "\n",
       "    .dataframe tbody tr th {\n",
       "        vertical-align: top;\n",
       "    }\n",
       "\n",
       "    .dataframe thead th {\n",
       "        text-align: right;\n",
       "    }\n",
       "</style>\n",
       "<table border=\"1\" class=\"dataframe\">\n",
       "  <thead>\n",
       "    <tr style=\"text-align: right;\">\n",
       "      <th></th>\n",
       "      <th>Sex</th>\n",
       "      <th>Bwt</th>\n",
       "      <th>Hwt</th>\n",
       "    </tr>\n",
       "  </thead>\n",
       "  <tbody>\n",
       "    <tr>\n",
       "      <th>0</th>\n",
       "      <td>F</td>\n",
       "      <td>2.0</td>\n",
       "      <td>7.0</td>\n",
       "    </tr>\n",
       "    <tr>\n",
       "      <th>1</th>\n",
       "      <td>F</td>\n",
       "      <td>2.0</td>\n",
       "      <td>7.4</td>\n",
       "    </tr>\n",
       "    <tr>\n",
       "      <th>2</th>\n",
       "      <td>F</td>\n",
       "      <td>2.0</td>\n",
       "      <td>9.5</td>\n",
       "    </tr>\n",
       "    <tr>\n",
       "      <th>3</th>\n",
       "      <td>F</td>\n",
       "      <td>2.1</td>\n",
       "      <td>7.2</td>\n",
       "    </tr>\n",
       "    <tr>\n",
       "      <th>4</th>\n",
       "      <td>F</td>\n",
       "      <td>2.1</td>\n",
       "      <td>7.3</td>\n",
       "    </tr>\n",
       "  </tbody>\n",
       "</table>\n",
       "</div>"
      ],
      "text/plain": [
       "  Sex  Bwt  Hwt\n",
       "0   F  2.0  7.0\n",
       "1   F  2.0  7.4\n",
       "2   F  2.0  9.5\n",
       "3   F  2.1  7.2\n",
       "4   F  2.1  7.3"
      ]
     },
     "execution_count": 3,
     "metadata": {},
     "output_type": "execute_result"
    }
   ],
   "source": [
    "import pandas as pd\n",
    "cats=pd.read_csv('cats.csv')\n",
    "cats.head()"
   ]
  },
  {
   "cell_type": "code",
   "execution_count": 8,
   "metadata": {},
   "outputs": [
    {
     "data": {
      "text/plain": [
       "ShapiroResult(statistic=0.9518786668777466, pvalue=6.730248423991725e-05)"
      ]
     },
     "execution_count": 8,
     "metadata": {},
     "output_type": "execute_result"
    }
   ],
   "source": [
    "# cats의 Bwt의 정규성 검정 : Shapiro test\n",
    "import scipy.stats as stats\n",
    "from scipy.stats import shapiro\n",
    "mu = 2.6\n",
    "shapiro(cats['Bwt'])"
   ]
  },
  {
   "cell_type": "markdown",
   "metadata": {},
   "source": [
    "[결과해석]  \n",
    "* 첫번째 값 (검정통계치) : 0.95187\n",
    "* 두번째 값 (p-value) : 6.730e-05   \n",
    "==> 유의수준보다 작으므로 '데이터가 정규분포를 따른다'는 귀무가설을 기각한다.   \n",
    "==> 즉, cats 데이이터의 Bwt 변수는 __정규분포를 따르지 않음__    \n",
    "==> __wilcox test__ 로 T-검정 진행"
   ]
  },
  {
   "cell_type": "code",
   "execution_count": 11,
   "metadata": {},
   "outputs": [
    {
     "data": {
      "text/plain": [
       "WilcoxonResult(statistic=3573.0, pvalue=0.02524520294814093)"
      ]
     },
     "execution_count": 11,
     "metadata": {},
     "output_type": "execute_result"
    }
   ],
   "source": [
    "# cats의 Bwt t-test (wilcox test)\n",
    "stats.wilcoxon(cats.Bwt - mu, alternative = 'two-sided')"
   ]
  },
  {
   "cell_type": "markdown",
   "metadata": {},
   "source": [
    "[결과해석]   \n",
    "* 첫번째 값 (검정통게치) : 3573.0   \n",
    "* 두번째 값 (p-value) : 0.025   \n",
    "==> 유의수준보다 작으므로 '고양이들의 평균 몸무게는 2.6kg이다'는 귀무가설을 기각한다   \n",
    "==> 즉, 고양이들의 평균 몸무게는 2.6kg이 아니라는 결론"
   ]
  },
  {
   "cell_type": "markdown",
   "metadata": {},
   "source": [
    "-------\n",
    "### 2절. 대응표본 T-검정 (Paired Sample T-Test)\n",
    "__가.__ 대응표본 T-검정 개념   \n",
    "* 단일모집단에 대해 두 번의 처리를 가했을 떄, 두 개의 처리에 따른 평균의 차이를 비교\n",
    "* 표본 내의 개체들에 대해 두 번의 측정 실시\n",
    "* 가정: 모집단의 관측값이 정규성을 만족해야함\n",
    "    \n",
    "    \n",
    "__나.__ 대응표본 T-검정 단계\n",
    "\n",
    "|1단계: |가설설정|  |\n",
    "|------|---|---|\n",
    "|모수|두 개 모평균 사이의 차이(D)|  |\n",
    "|귀무가설(H0)|μx-μy=D=0|  |\n",
    "|대립가설(H1)|(1) 양측검정: |μx-μy=D!=0|\n",
    "| |(2) 우단측검정: |μx-μy=D>0|\n",
    "| |(3) 좌단측검정: |μx-μy=D<0|\n",
    "      \n",
    "      \n",
    "|2단계: |유의수준 설정|          |\n",
    "|------|---|---|\n",
    "      \n",
    "      \n",
    "|3단계: |검정통계량의 값 및 유의확률 계산|  |\n",
    "|------|---|---|\n",
    "      \n",
    "      \n",
    "|4단계: |귀무가설의 기각여부 판단 및 의사결정|\n",
    "|------|---|\n",
    "|p-value:|유의확률|\n",
    "|α: | 유의수준|\n",
    "|p-value < α:|귀무가설을 기각하고, 대립가설을 채택|\n",
    "|p-value > α:|귀무가설을 기각하지 않음 --> 사전평균 = 사후평균|\n",
    "\n",
    "\n",
    "\n",
    "![python image2](https://media.vlpt.us/images/pyose95/post/78cc9195-bd33-4241-8b95-ada0161b9ab6/image.png)"
   ]
  },
  {
   "cell_type": "markdown",
   "metadata": {},
   "source": [
    "__[예제]__  \n",
    "10명의 환자 대상 수면영양제 복용 전과 후의 수면시간 측정    \n",
    "영양제의 효과가 있는지를 판단하고자 함.     \n",
    "(표본이 정규성을 만족한다는 가정 하에 단측검정 수행, 유의수준 = 0.05)"
   ]
  },
  {
   "cell_type": "code",
   "execution_count": 17,
   "metadata": {},
   "outputs": [
    {
     "data": {
      "text/html": [
       "<div>\n",
       "<style scoped>\n",
       "    .dataframe tbody tr th:only-of-type {\n",
       "        vertical-align: middle;\n",
       "    }\n",
       "\n",
       "    .dataframe tbody tr th {\n",
       "        vertical-align: top;\n",
       "    }\n",
       "\n",
       "    .dataframe thead th {\n",
       "        text-align: right;\n",
       "    }\n",
       "</style>\n",
       "<table border=\"1\" class=\"dataframe\">\n",
       "  <thead>\n",
       "    <tr style=\"text-align: right;\">\n",
       "      <th></th>\n",
       "      <th>before</th>\n",
       "      <th>after</th>\n",
       "    </tr>\n",
       "  </thead>\n",
       "  <tbody>\n",
       "    <tr>\n",
       "      <th>0</th>\n",
       "      <td>7</td>\n",
       "      <td>8</td>\n",
       "    </tr>\n",
       "    <tr>\n",
       "      <th>1</th>\n",
       "      <td>3</td>\n",
       "      <td>4</td>\n",
       "    </tr>\n",
       "    <tr>\n",
       "      <th>2</th>\n",
       "      <td>4</td>\n",
       "      <td>5</td>\n",
       "    </tr>\n",
       "    <tr>\n",
       "      <th>3</th>\n",
       "      <td>5</td>\n",
       "      <td>6</td>\n",
       "    </tr>\n",
       "    <tr>\n",
       "      <th>4</th>\n",
       "      <td>2</td>\n",
       "      <td>2</td>\n",
       "    </tr>\n",
       "    <tr>\n",
       "      <th>5</th>\n",
       "      <td>1</td>\n",
       "      <td>3</td>\n",
       "    </tr>\n",
       "    <tr>\n",
       "      <th>6</th>\n",
       "      <td>6</td>\n",
       "      <td>6</td>\n",
       "    </tr>\n",
       "    <tr>\n",
       "      <th>7</th>\n",
       "      <td>6</td>\n",
       "      <td>8</td>\n",
       "    </tr>\n",
       "    <tr>\n",
       "      <th>8</th>\n",
       "      <td>5</td>\n",
       "      <td>6</td>\n",
       "    </tr>\n",
       "    <tr>\n",
       "      <th>9</th>\n",
       "      <td>4</td>\n",
       "      <td>5</td>\n",
       "    </tr>\n",
       "  </tbody>\n",
       "</table>\n",
       "</div>"
      ],
      "text/plain": [
       "   before  after\n",
       "0       7      8\n",
       "1       3      4\n",
       "2       4      5\n",
       "3       5      6\n",
       "4       2      2\n",
       "5       1      3\n",
       "6       6      6\n",
       "7       6      8\n",
       "8       5      6\n",
       "9       4      5"
      ]
     },
     "execution_count": 17,
     "metadata": {},
     "output_type": "execute_result"
    }
   ],
   "source": [
    "data = {'before':[7,3,4,5,2,1,6,6,5,4],\n",
    "       'after':[8,4,5,6,2,3,6,8,6,5]}\n",
    "data = pd.DataFrame(data)\n",
    "data"
   ]
  },
  {
   "cell_type": "code",
   "execution_count": 18,
   "metadata": {},
   "outputs": [
    {
     "data": {
      "text/plain": [
       "Ttest_relResult(statistic=-4.743416490252569, pvalue=0.0010538712570165528)"
      ]
     },
     "execution_count": 18,
     "metadata": {},
     "output_type": "execute_result"
    }
   ],
   "source": [
    "stats.ttest_rel(data['before'], data['after'])"
   ]
  },
  {
   "cell_type": "markdown",
   "metadata": {},
   "source": [
    "[결과해석]   \n",
    "* 첫번째 값 (검정통게치) : -4.7434   \n",
    "* 두번째 값 (p-value) : 0.001   \n",
    "==> 유의수준보다 작으므로 '수면영양제를 복용하기 전과 후의 평균 수면시간의 차이는 통계적으로 유의하며, 영양제를 복용한 후 수면시간이 늘었다'는 결론"
   ]
  },
  {
   "cell_type": "markdown",
   "metadata": {},
   "source": [
    "-------\n",
    "### 3절. 독립표본 T-검정 (Independent Sample T-Test)\n",
    "__가.__ 독립표본 T-검정 개념   \n",
    "* 두 개의 독립된 모집단의 평균을 비교\n",
    "* 모집단, 모수, 표본이 모두 두 개씩 존재\n",
    "* 가정\n",
    "    * 두 모집단은 정규성 만족해야함\n",
    "    * 두 모집단의 분산이 서로 같아야 함 (등분산성 가정)\n",
    "    * 독립변수는 범주형, 종속변수는 연속형\n",
    "    \n",
    "    \n",
    "__나.__ 독립표본 T-검정 단계\n",
    "\n",
    "|1단계: |가설설정|  |\n",
    "|------|---|---|\n",
    "|모수|서로 독립된 두 모집단의 평균(μ1, μ2)|  |\n",
    "|귀무가설(H0)|μ1=μ2|  |\n",
    "|대립가설(H1)|(1) 양측검정: |μ1!=μ2|\n",
    "| |(2) 우단측검정: |μ1>μ2|\n",
    "| |(3) 좌단측검정: |μ1<μ2|\n",
    "      \n",
    "|2단계: |유의수준 설정|          |\n",
    "|------|---|---|\n",
    "      \n",
    "      \n",
    "|3단계: |검정통계량의 값 및 유의확률 계산|  |\n",
    "|------|---|---|\n",
    "      \n",
    "      \n",
    "|4단계: |귀무가설의 기각여부 판단 및 의사결정|\n",
    "|------|---|\n",
    "|p-value:|유의확률|\n",
    "|α: | 유의수준|\n",
    "|p-value < α:|귀무가설을 기각하고, 대립가설을 채택|\n",
    "|p-value > α:|귀무가설을 기각하지 않음|\n",
    "\n",
    "![python image2](https://media.vlpt.us/images/pyose95/post/4af65ff5-3934-4f2e-811c-02234f97782e/image.png)"
   ]
  },
  {
   "cell_type": "code",
   "execution_count": 24,
   "metadata": {},
   "outputs": [
    {
     "data": {
      "text/plain": [
       "ShapiroResult(statistic=0.9518786668777466, pvalue=6.730248423991725e-05)"
      ]
     },
     "execution_count": 24,
     "metadata": {},
     "output_type": "execute_result"
    }
   ],
   "source": [
    "# 정규성 검정\n",
    "stats.shapiro(cats.Bwt)\n",
    "\n",
    "#검정 결과: 귀무가설 기각 (표본의 모집단이 정규분포를 따르지 않음)"
   ]
  },
  {
   "cell_type": "code",
   "execution_count": 29,
   "metadata": {},
   "outputs": [
    {
     "data": {
      "text/plain": [
       "LeveneResult(statistic=19.43101190877999, pvalue=2.0435285255189404e-05)"
      ]
     },
     "execution_count": 29,
     "metadata": {},
     "output_type": "execute_result"
    }
   ],
   "source": [
    "# 등분산성 검정\n",
    "female = cats.loc[cats.Sex == 'F', 'Bwt']\n",
    "male = cats.loc[cats.Sex == 'M', 'Bwt']\n",
    "stats.levene(female, male)\n",
    "\n",
    "# 검정 결과: 귀무가설 채택 (등분산성을 만족하지 않음)"
   ]
  },
  {
   "cell_type": "code",
   "execution_count": 31,
   "metadata": {},
   "outputs": [
    {
     "data": {
      "text/plain": [
       "Ttest_indResult(statistic=-8.70948849909559, pvalue=8.831034455859356e-15)"
      ]
     },
     "execution_count": 31,
     "metadata": {},
     "output_type": "execute_result"
    }
   ],
   "source": [
    "# 성별에 따른 몸무게가 등분산성을 만족하지 않는다는 조건 하에 독립 t검정 수행\n",
    "stats.ttest_ind(female, male, equal_var=False)\n",
    "\n",
    "# 검정 결과: 귀무가설 기각 (고양이들의 성별에 따른 평균 몸무게는 통계적으로 유의한 차이가 존재한다.)"
   ]
  }
 ],
 "metadata": {
  "kernelspec": {
   "display_name": "Python 3",
   "language": "python",
   "name": "python3"
  },
  "language_info": {
   "codemirror_mode": {
    "name": "ipython",
    "version": 3
   },
   "file_extension": ".py",
   "mimetype": "text/x-python",
   "name": "python",
   "nbconvert_exporter": "python",
   "pygments_lexer": "ipython3",
   "version": "3.8.5"
  }
 },
 "nbformat": 4,
 "nbformat_minor": 4
}
