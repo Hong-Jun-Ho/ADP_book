{
 "cells": [
  {
   "cell_type": "markdown",
   "metadata": {},
   "source": [
    "# Part 03. 통계분석\n",
    "\n",
    "<br>"
   ]
  },
  {
   "cell_type": "markdown",
   "metadata": {},
   "source": [
    "-----------\n",
    "\n",
    "## 6장. 회귀분석\n",
    "\n",
    "<p style='color:#726a77; text-align:right'>양여진 작성</p>\n",
    "\n",
    "\n",
    "### 1절. 회귀분석 개념\n",
    "\n",
    "- 하나 혹은 그 이상의 원인이 종속변수에 미치는 영향을 추적하여 식으로 표현하는 통계기법\n",
    "- 변수들 사이의 인과관계를 밝히고 모형을 적합하여 관심있는 변수를 예측하거나 추론하기 위해 사용하는 분석 방법\n",
    "- 독립변수의 개수가 하나인 경우 <b>단순선형회귀분석</b>, 독립변수의 개수가 두 개 이상이면 <b>다중선형회귀분석</b>으로 분석함\n",
    "\n",
    "<br>\n",
    "\n",
    "#### 선형회귀분석의 가정\n",
    "\n",
    "- 독립변수와 종속변수 간의 선형성 (선형회귀분석에서 가장 중요한 가정)\n",
    "- 오차의 등분산성 : 오차의 분산은 독립변수 값과 무관하게 일정해야 함\n",
    "- 오차의 독립성 : 예측값의 변화에 따라 오차항이 특정한 패턴을 가지면 안 됨\n",
    "- 오차의 정규성 : 오차의 분포가 정규분포를 만족해야 함 <b>Q-Q plot</b>, <b>Shapiro-Wilk</b>검정 등을 활용하여 정규성 확인\n",
    "\n",
    "<br>\n",
    "\n",
    "<img src=\"https://www.ssacstat.com/base/component/board/board_12/u_image/290/20151230073919_710513457.png\"><br>"
   ]
  },
  {
   "cell_type": "markdown",
   "metadata": {},
   "source": [
    "### 2절. 단순선형회귀분석\n",
    "\n",
    "<b>하나의 독립변수</b>가 종속변수에 미치는 영향을 추정할 수 있는 통계기법\n",
    "<img src ='https://img1.daumcdn.net/thumb/R800x0/?scode=mtistory2&fname=https%3A%2F%2Ft1.daumcdn.net%2Fcfile%2Ftistory%2F9906A6465CDBC08C2F' width=\"400\">\n",
    "\n",
    "<br>\n",
    "\n",
    "#### 회귀분석 시 검토사항\n",
    "\n",
    "- <b>모형 내의 회귀계수가 유의한가</b> : 회귀계수에 대한 <span style='color: #CD5C5C'>t통계량</span>의 p-value가 0.05보다 작으면 회귀계수가 통계적으로 유의하다고 볼 수 있음\n",
    "- <b>모형은 데이터를 얼마나 설명할 수 있는가</b> : <span style='color: #CD5C5C'>결정계수</span>(R-square)를 확인함\n",
    "    - 결정계수는 0~1의 값을 가짐\n",
    "    - 추정된 회귀식이 전체 데이터에서 설명할 수 있는 데이터의 비율을 의미함 (높을수록 높은 설명력)\n",
    "    - 다변량 회귀분석의 경우 포함된 독립변수의 유의성에 관계없이 독립변수의 수가 많아지면 결정계수가 높아지는 경향을 보임<br>\n",
    "        이를 보완하기 위해 수정된 결정계수(adjusted R square)를 활용하여 모형의 설명력을 판단함\n",
    "- <b>회귀모형이 통계적으로 유의한가</b> : 회귀분석의 결과로 산출되는 <span style='color: #CD5C5C'>F-통계량</span>의 p-value가 0.05보다 작으면 회귀식이 통계적으로 유의하다고 볼 수 있음<br>\n",
    "&emsp;F 통계량 : 모델 또는 모델 성분의 유의성을 검정하는 분산분석(ANOVA) 방식에 대한 검정 통계량\n",
    "- <b>모형이 데이터를 잘 적합하고 있는가</b> : 모형의 잔차를 그리고 <span style='color: #CD5C5C'>회귀진단</span>을 수행해 판단함\n",
    "\n",
    "\n",
    "<br><br>\n",
    "\n",
    "<b>[예제]</b>\n",
    "\n",
    "Cars93 데이터의 EngineSize를 독립변수, Price를 종속변수로 설정하여 단순 선형 회귀분석을 실시한 후, 추정된 회귀모형에 대해 해석하라"
   ]
  },
  {
   "cell_type": "code",
   "execution_count": 3,
   "metadata": {
    "scrolled": true
   },
   "outputs": [
    {
     "data": {
      "text/html": [
       "<div>\n",
       "<style scoped>\n",
       "    .dataframe tbody tr th:only-of-type {\n",
       "        vertical-align: middle;\n",
       "    }\n",
       "\n",
       "    .dataframe tbody tr th {\n",
       "        vertical-align: top;\n",
       "    }\n",
       "\n",
       "    .dataframe thead th {\n",
       "        text-align: right;\n",
       "    }\n",
       "</style>\n",
       "<table border=\"1\" class=\"dataframe\">\n",
       "  <thead>\n",
       "    <tr style=\"text-align: right;\">\n",
       "      <th></th>\n",
       "      <th>Manufacturer</th>\n",
       "      <th>Model</th>\n",
       "      <th>Type</th>\n",
       "      <th>Min.Price</th>\n",
       "      <th>Price</th>\n",
       "      <th>Max.Price</th>\n",
       "      <th>MPG.city</th>\n",
       "      <th>MPG.highway</th>\n",
       "      <th>AirBags</th>\n",
       "      <th>DriveTrain</th>\n",
       "      <th>...</th>\n",
       "      <th>Passengers</th>\n",
       "      <th>Length</th>\n",
       "      <th>Wheelbase</th>\n",
       "      <th>Width</th>\n",
       "      <th>Turn.circle</th>\n",
       "      <th>Rear.seat.room</th>\n",
       "      <th>Luggage.room</th>\n",
       "      <th>Weight</th>\n",
       "      <th>Origin</th>\n",
       "      <th>Make</th>\n",
       "    </tr>\n",
       "  </thead>\n",
       "  <tbody>\n",
       "    <tr>\n",
       "      <th>1</th>\n",
       "      <td>Acura</td>\n",
       "      <td>Integra</td>\n",
       "      <td>Small</td>\n",
       "      <td>12.9</td>\n",
       "      <td>15.9</td>\n",
       "      <td>18.8</td>\n",
       "      <td>25</td>\n",
       "      <td>31</td>\n",
       "      <td>None</td>\n",
       "      <td>Front</td>\n",
       "      <td>...</td>\n",
       "      <td>5</td>\n",
       "      <td>177</td>\n",
       "      <td>102</td>\n",
       "      <td>68</td>\n",
       "      <td>37</td>\n",
       "      <td>26.5</td>\n",
       "      <td>11</td>\n",
       "      <td>2705</td>\n",
       "      <td>non-USA</td>\n",
       "      <td>Acura Integra</td>\n",
       "    </tr>\n",
       "    <tr>\n",
       "      <th>2</th>\n",
       "      <td>Acura</td>\n",
       "      <td>Legend</td>\n",
       "      <td>Midsize</td>\n",
       "      <td>29.2</td>\n",
       "      <td>33.9</td>\n",
       "      <td>38.7</td>\n",
       "      <td>18</td>\n",
       "      <td>25</td>\n",
       "      <td>Driver &amp; Passenger</td>\n",
       "      <td>Front</td>\n",
       "      <td>...</td>\n",
       "      <td>5</td>\n",
       "      <td>195</td>\n",
       "      <td>115</td>\n",
       "      <td>71</td>\n",
       "      <td>38</td>\n",
       "      <td>30.0</td>\n",
       "      <td>15</td>\n",
       "      <td>3560</td>\n",
       "      <td>non-USA</td>\n",
       "      <td>Acura Legend</td>\n",
       "    </tr>\n",
       "    <tr>\n",
       "      <th>3</th>\n",
       "      <td>Audi</td>\n",
       "      <td>90</td>\n",
       "      <td>Compact</td>\n",
       "      <td>25.9</td>\n",
       "      <td>29.1</td>\n",
       "      <td>32.3</td>\n",
       "      <td>20</td>\n",
       "      <td>26</td>\n",
       "      <td>Driver only</td>\n",
       "      <td>Front</td>\n",
       "      <td>...</td>\n",
       "      <td>5</td>\n",
       "      <td>180</td>\n",
       "      <td>102</td>\n",
       "      <td>67</td>\n",
       "      <td>37</td>\n",
       "      <td>28.0</td>\n",
       "      <td>14</td>\n",
       "      <td>3375</td>\n",
       "      <td>non-USA</td>\n",
       "      <td>Audi 90</td>\n",
       "    </tr>\n",
       "    <tr>\n",
       "      <th>4</th>\n",
       "      <td>Audi</td>\n",
       "      <td>100</td>\n",
       "      <td>Midsize</td>\n",
       "      <td>30.8</td>\n",
       "      <td>37.7</td>\n",
       "      <td>44.6</td>\n",
       "      <td>19</td>\n",
       "      <td>26</td>\n",
       "      <td>Driver &amp; Passenger</td>\n",
       "      <td>Front</td>\n",
       "      <td>...</td>\n",
       "      <td>6</td>\n",
       "      <td>193</td>\n",
       "      <td>106</td>\n",
       "      <td>70</td>\n",
       "      <td>37</td>\n",
       "      <td>31.0</td>\n",
       "      <td>17</td>\n",
       "      <td>3405</td>\n",
       "      <td>non-USA</td>\n",
       "      <td>Audi 100</td>\n",
       "    </tr>\n",
       "    <tr>\n",
       "      <th>5</th>\n",
       "      <td>BMW</td>\n",
       "      <td>535i</td>\n",
       "      <td>Midsize</td>\n",
       "      <td>23.7</td>\n",
       "      <td>30.0</td>\n",
       "      <td>36.2</td>\n",
       "      <td>22</td>\n",
       "      <td>30</td>\n",
       "      <td>Driver only</td>\n",
       "      <td>Rear</td>\n",
       "      <td>...</td>\n",
       "      <td>4</td>\n",
       "      <td>186</td>\n",
       "      <td>109</td>\n",
       "      <td>69</td>\n",
       "      <td>39</td>\n",
       "      <td>27.0</td>\n",
       "      <td>13</td>\n",
       "      <td>3640</td>\n",
       "      <td>non-USA</td>\n",
       "      <td>BMW 535i</td>\n",
       "    </tr>\n",
       "  </tbody>\n",
       "</table>\n",
       "<p>5 rows × 27 columns</p>\n",
       "</div>"
      ],
      "text/plain": [
       "  Manufacturer    Model     Type  Min.Price  Price  Max.Price  MPG.city  \\\n",
       "1        Acura  Integra    Small       12.9   15.9       18.8        25   \n",
       "2        Acura   Legend  Midsize       29.2   33.9       38.7        18   \n",
       "3         Audi       90  Compact       25.9   29.1       32.3        20   \n",
       "4         Audi      100  Midsize       30.8   37.7       44.6        19   \n",
       "5          BMW     535i  Midsize       23.7   30.0       36.2        22   \n",
       "\n",
       "   MPG.highway             AirBags DriveTrain  ... Passengers  Length  \\\n",
       "1           31                None      Front  ...          5     177   \n",
       "2           25  Driver & Passenger      Front  ...          5     195   \n",
       "3           26         Driver only      Front  ...          5     180   \n",
       "4           26  Driver & Passenger      Front  ...          6     193   \n",
       "5           30         Driver only       Rear  ...          4     186   \n",
       "\n",
       "   Wheelbase  Width  Turn.circle Rear.seat.room  Luggage.room  Weight  \\\n",
       "1        102     68           37           26.5            11    2705   \n",
       "2        115     71           38           30.0            15    3560   \n",
       "3        102     67           37           28.0            14    3375   \n",
       "4        106     70           37           31.0            17    3405   \n",
       "5        109     69           39           27.0            13    3640   \n",
       "\n",
       "    Origin           Make  \n",
       "1  non-USA  Acura Integra  \n",
       "2  non-USA   Acura Legend  \n",
       "3  non-USA        Audi 90  \n",
       "4  non-USA       Audi 100  \n",
       "5  non-USA       BMW 535i  \n",
       "\n",
       "[5 rows x 27 columns]"
      ]
     },
     "execution_count": 3,
     "metadata": {},
     "output_type": "execute_result"
    }
   ],
   "source": [
    "import pandas as pd\n",
    "from rpy2.robjects.packages import importr\n",
    "from rpy2.robjects import r, pandas2ri\n",
    "from pandas import DataFrame\n",
    "\n",
    "# 데이터 불러오기\n",
    "pandas2ri.activate()\n",
    "MASS = importr(\"MASS\")\n",
    "r.data('Cars93')\n",
    "Cars = r['Cars93']\n",
    "\n",
    "Cars.head()"
   ]
  },
  {
   "cell_type": "markdown",
   "metadata": {},
   "source": [
    "<br>\n",
    "\n",
    "scikit-learn을 이용한 방법\n",
    "\n",
    "> sklearn.linear_model.LinearRegression().fit()\n",
    "\n",
    "&emsp;&emsp;&emsp;LinearRegression() : 선형회귀분석 모델을 생성하는 함수<br>\n",
    "&emsp;&emsp;&emsp;fit() : 선형 회귀 모델에 필요한 두 가지 변수(x, y)를 전달\n",
    "\n",
    "<br>\n",
    "\n",
    "- 설명변수의 차원을 조정해야 함\n",
    "- R의 summary()와 같은 기능이 없음\n",
    "- 기울기와 절편을 따로 호출해서 얻을 수 있음\n",
    "- 잔차를 자동으로 계산해주는 기능이 없음"
   ]
  },
  {
   "cell_type": "code",
   "execution_count": 28,
   "metadata": {},
   "outputs": [
    {
     "name": "stdout",
     "output_type": "stream",
     "text": [
      "기울기 : [5.56294028]\n",
      "절편 : 4.669188361408882\n",
      "잔차 :\n",
      " [  1.21751914  11.42940276   8.85457887  17.45457887   5.86052067\n",
      "  -1.20765697  -5.00836141 -12.67794793   0.49163859   2.77240429\n",
      "   9.84128637  -3.50765697  -5.50765697  -8.4831853   -1.00765697\n",
      "  -9.50836141 -11.98983155 -13.68388974   1.62205207  -4.62689127\n",
      "  -5.55800919   6.47310873  -3.81359877  -5.60765697  -5.27653905\n",
      "  -2.35800919  -2.97653905   4.44199081  -0.81359877  -4.83947933\n",
      "  -4.50101072  -4.58248086  -6.163951    -1.563951    -1.79506891\n",
      "  -1.45800919  -1.15800919  -9.35871363  -1.83212864  -1.0698928\n",
      "   2.336049    -0.91359877   0.59234303  -5.01359877  -4.68248086\n",
      "  -3.01359877  -1.89506891  18.1975804    6.64199081  13.84199081\n",
      "   8.49163859   5.84128637  -5.2698928   -3.08248086  -2.07653905\n",
      "  -2.25800919  20.59898928  14.436049    39.42940276   0.5301072\n",
      " -10.90836141  -2.71359877   4.74199081  -1.7698928   -2.32024502\n",
      "  -2.25800919   0.14199081  -3.963951    -0.60765697  -6.30836141\n",
      "  -5.10836141  -0.28248086  -4.5698928   -4.69506891  -5.8831853\n",
      "  -5.0831853   -1.40836141  12.34863706  -4.13877489  -2.94471669\n",
      "  -3.78248086   2.59234303  -3.30101072  -3.21359877   1.49234303\n",
      "   1.29234303   4.67975498  -5.58248086   1.12346095   4.20493109\n",
      "   3.05457887   5.236049     8.67975498]\n"
     ]
    },
    {
     "data": {
      "image/png": "[encoded data removed]",
      "text/plain": [
       "<Figure size 432x288 with 1 Axes>"
      ]
     },
     "metadata": {
      "needs_background": "light"
     },
     "output_type": "display_data"
    }
   ],
   "source": [
    "#pip install sklearn\n",
    "from sklearn.linear_model import LinearRegression\n",
    "lr = LinearRegression() # 회귀모델 선언\n",
    "x = Cars['EngineSize'].values.reshape(-1,1)  # fit 함수가 x 값으로 2차원 array를 받으므로 reshape해 줌\n",
    "lr.fit(x, Cars['Price'])\n",
    "\n",
    "# 기울기와 절편은 따로 호출하여 확인랑 수 있다\n",
    "print('기울기 :', lr.coef_)\n",
    "print('절편 :', lr.intercept_)\n",
    "\n",
    "# 추정된 값을 보기 위해서는 모델.predict(x)를 출력한다\n",
    "y_predicted = lr.predict(x)\n",
    "\n",
    "# 잔차를 확인하는 방법 : y값과 추정값의 차를 계산\n",
    "residual = Cars['Price'] - lr.predict(x)\n",
    "print('잔차 :\\n', residual.values)\n",
    "\n",
    "# plot로 확인하는 방법\n",
    "import matplotlib.pyplot as plt\n",
    "plt.plot(Cars['EngineSize'], Cars['Price'], 'o')\n",
    "plt.plot(Cars['EngineSize'], lr.predict(x))\n",
    "plt.show()"
   ]
  },
  {
   "cell_type": "markdown",
   "metadata": {},
   "source": [
    "<br>\n",
    "\n",
    "statsmodels를 이용한 방법\n",
    "\n",
    "> ols('y ~ x',data=df).fit()\n",
    "\n",
    "<br>\n",
    "\n",
    "- 모델.summary() : 적합 결과를 요약하여 제시함\n",
    "- 모델.params.변수명(또는 Intercept) : 기울기(또는 절편)의 추정값 획득\n",
    "- 모델.fittedvalues : 추정값\n",
    "- 모델.resid : 잔차\n",
    "- 모델.predict(exog=dict(설명변수명=[값])) : 새로운 데이터에 대한 예측값 - predict 함수의 exog 인자에 설명변수의 이름과 값을 딕셔너리로 제공"
   ]
  },
  {
   "cell_type": "code",
   "execution_count": 47,
   "metadata": {},
   "outputs": [
    {
     "name": "stdout",
     "output_type": "stream",
     "text": [
      "절편 : 4.6691883614088905\n",
      "기울기 : 5.562940275650843\n",
      "\n",
      "추정값 :\n",
      " 1     14.682481\n",
      "2     22.470597\n",
      "3     20.245421\n",
      "4     20.245421\n",
      "5     24.139479\n",
      "        ...    \n",
      "89    18.576539\n",
      "90    15.795069\n",
      "91    20.245421\n",
      "92    17.463951\n",
      "93    18.020245\n",
      "Length: 93, dtype: float64\n",
      "\n",
      "잔차 :\n",
      " 1     14.682481\n",
      "2     22.470597\n",
      "3     20.245421\n",
      "4     20.245421\n",
      "5     24.139479\n",
      "        ...    \n",
      "89    18.576539\n",
      "90    15.795069\n",
      "91    20.245421\n",
      "92    17.463951\n",
      "93    18.020245\n",
      "Length: 93, dtype: float64\n",
      "\n",
      "예측 :\n",
      " 0    38.04683\n",
      "dtype: float64\n"
     ]
    },
    {
     "data": {
      "text/html": [
       "<table class=\"simpletable\">\n",
       "<caption>OLS Regression Results</caption>\n",
       "<tr>\n",
       "  <th>Dep. Variable:</th>          <td>Price</td>      <th>  R-squared:         </th> <td>   0.357</td>\n",
       "</tr>\n",
       "<tr>\n",
       "  <th>Model:</th>                   <td>OLS</td>       <th>  Adj. R-squared:    </th> <td>   0.350</td>\n",
       "</tr>\n",
       "<tr>\n",
       "  <th>Method:</th>             <td>Least Squares</td>  <th>  F-statistic:       </th> <td>   50.51</td>\n",
       "</tr>\n",
       "<tr>\n",
       "  <th>Date:</th>             <td>Fri, 29 Jan 2021</td> <th>  Prob (F-statistic):</th> <td>2.59e-10</td>\n",
       "</tr>\n",
       "<tr>\n",
       "  <th>Time:</th>                 <td>22:01:45</td>     <th>  Log-Likelihood:    </th> <td> -321.85</td>\n",
       "</tr>\n",
       "<tr>\n",
       "  <th>No. Observations:</th>      <td>    93</td>      <th>  AIC:               </th> <td>   647.7</td>\n",
       "</tr>\n",
       "<tr>\n",
       "  <th>Df Residuals:</th>          <td>    91</td>      <th>  BIC:               </th> <td>   652.8</td>\n",
       "</tr>\n",
       "<tr>\n",
       "  <th>Df Model:</th>              <td>     1</td>      <th>                     </th>     <td> </td>   \n",
       "</tr>\n",
       "<tr>\n",
       "  <th>Covariance Type:</th>      <td>nonrobust</td>    <th>                     </th>     <td> </td>   \n",
       "</tr>\n",
       "</table>\n",
       "<table class=\"simpletable\">\n",
       "<tr>\n",
       "       <td></td>         <th>coef</th>     <th>std err</th>      <th>t</th>      <th>P>|t|</th>  <th>[0.025</th>    <th>0.975]</th>  \n",
       "</tr>\n",
       "<tr>\n",
       "  <th>Intercept</th>  <td>    4.6692</td> <td>    2.239</td> <td>    2.085</td> <td> 0.040</td> <td>    0.222</td> <td>    9.117</td>\n",
       "</tr>\n",
       "<tr>\n",
       "  <th>EngineSize</th> <td>    5.5629</td> <td>    0.783</td> <td>    7.107</td> <td> 0.000</td> <td>    4.008</td> <td>    7.118</td>\n",
       "</tr>\n",
       "</table>\n",
       "<table class=\"simpletable\">\n",
       "<tr>\n",
       "  <th>Omnibus:</th>       <td>54.332</td> <th>  Durbin-Watson:     </th> <td>   1.172</td>\n",
       "</tr>\n",
       "<tr>\n",
       "  <th>Prob(Omnibus):</th> <td> 0.000</td> <th>  Jarque-Bera (JB):  </th> <td> 217.069</td>\n",
       "</tr>\n",
       "<tr>\n",
       "  <th>Skew:</th>          <td> 1.917</td> <th>  Prob(JB):          </th> <td>7.31e-48</td>\n",
       "</tr>\n",
       "<tr>\n",
       "  <th>Kurtosis:</th>      <td> 9.428</td> <th>  Cond. No.          </th> <td>    8.78</td>\n",
       "</tr>\n",
       "</table><br/><br/>Notes:<br/>[1] Standard Errors assume that the covariance matrix of the errors is correctly specified."
      ],
      "text/plain": [
       "<class 'statsmodels.iolib.summary.Summary'>\n",
       "\"\"\"\n",
       "                            OLS Regression Results                            \n",
       "==============================================================================\n",
       "Dep. Variable:                  Price   R-squared:                       0.357\n",
       "Model:                            OLS   Adj. R-squared:                  0.350\n",
       "Method:                 Least Squares   F-statistic:                     50.51\n",
       "Date:                Fri, 29 Jan 2021   Prob (F-statistic):           2.59e-10\n",
       "Time:                        22:01:45   Log-Likelihood:                -321.85\n",
       "No. Observations:                  93   AIC:                             647.7\n",
       "Df Residuals:                      91   BIC:                             652.8\n",
       "Df Model:                           1                                         \n",
       "Covariance Type:            nonrobust                                         \n",
       "==============================================================================\n",
       "                 coef    std err          t      P>|t|      [0.025      0.975]\n",
       "------------------------------------------------------------------------------\n",
       "Intercept      4.6692      2.239      2.085      0.040       0.222       9.117\n",
       "EngineSize     5.5629      0.783      7.107      0.000       4.008       7.118\n",
       "==============================================================================\n",
       "Omnibus:                       54.332   Durbin-Watson:                   1.172\n",
       "Prob(Omnibus):                  0.000   Jarque-Bera (JB):              217.069\n",
       "Skew:                           1.917   Prob(JB):                     7.31e-48\n",
       "Kurtosis:                       9.428   Cond. No.                         8.78\n",
       "==============================================================================\n",
       "\n",
       "Notes:\n",
       "[1] Standard Errors assume that the covariance matrix of the errors is correctly specified.\n",
       "\"\"\""
      ]
     },
     "execution_count": 47,
     "metadata": {},
     "output_type": "execute_result"
    }
   ],
   "source": [
    "#pip install statsmodels\n",
    "from statsmodels.formula.api import ols\n",
    "\n",
    "# 단순선형회귀모형 적합\n",
    "fit = ols('Price ~ EngineSize',data=Cars).fit()\n",
    "\n",
    "# 회귀 계수\n",
    "print(\"절편 :\", fit.params.Intercept) ## 절편\n",
    "print(\"기울기 :\", fit.params.EngineSize) ## 기울기\n",
    "\n",
    "# 추정값 & 잔차\n",
    "print(\"\\n추정값 :\\n\", fit.fittedvalues)\n",
    "print(\"\\n잔차 :\\n\", fit.resid )\n",
    "\n",
    "# 예측\n",
    "print(\"\\n예측 :\\n\", fit.predict(exog=dict(EngineSize=[6])))\n",
    "\n",
    "# 단순선형회귀모형 적합 결과 요약 정보\n",
    "fit.summary()"
   ]
  },
  {
   "cell_type": "markdown",
   "metadata": {},
   "source": [
    "독립변수는 EngineSize이고 종속변수는 Price이다.<br>\n",
    "회귀식은 Price = EngineSize * 5.5629 + 4.6692 와 같이 도출할 수 있다<br>\n",
    "상수항과 독립변수의 회귀계수에 대한 p-value가 각각 0.04와 0.00으로 0.05보다 작으므로 통계적으로 유의하다고 판단할 수 있다<br>\n",
    "결정계수는 0.35로, 이 회귀모형의 데이터에 대한 설명력은 35% 이다<br>\n",
    "F-통계량은 50.51이며, F-통계량의 p-value는 2.59-e10으로 0.05보다 매우 작기 때문에 추정된 회귀 모형은 통계적으로 유의하다고 볼 수 있다"
   ]
  },
  {
   "cell_type": "code",
   "execution_count": 87,
   "metadata": {},
   "outputs": [
    {
     "data": {
      "image/png": "[encoded data removed]",
      "text/plain": [
       "<Figure size 432x288 with 1 Axes>"
      ]
     },
     "metadata": {
      "needs_background": "light"
     },
     "output_type": "display_data"
    }
   ],
   "source": [
    "# 회귀모형의 시각화\n",
    "plt.scatter(Cars['EngineSize'], Cars['Price']) ## 원 데이터 산포도\n",
    "plt.plot(Cars['EngineSize'], fit.fittedvalues, color='red') ## 회귀직선 추가\n",
    " \n",
    "plt.xlabel('Engine Size', fontsize=10)\n",
    "plt.ylabel('Price',fontsize=10)\n",
    "plt.title('Linear Regression Result')\n",
    "plt.show()"
   ]
  },
  {
   "cell_type": "code",
   "execution_count": 92,
   "metadata": {},
   "outputs": [
    {
     "data": {
      "image/png": "[encoded data removed]",
      "text/plain": [
       "<Figure size 432x288 with 1 Axes>"
      ]
     },
     "metadata": {
      "needs_background": "light"
     },
     "output_type": "display_data"
    }
   ],
   "source": [
    "# 잔차도\n",
    "# 잔차가 정규성을 지니는지 확인\n",
    "\n",
    "plt.scatter(Cars['EngineSize'], fit.resid) ## 잔차도 출력\n",
    "\n",
    "plt.xlabel('Engine Size', fontsize=10)\n",
    "plt.ylabel('잔차',fontsize=10)\n",
    "plt.show()"
   ]
  },
  {
   "cell_type": "code",
   "execution_count": 104,
   "metadata": {},
   "outputs": [
    {
     "name": "stderr",
     "output_type": "stream",
     "text": [
      "C:\\Users\\ty009\\anaconda3\\envs\\ADP\\lib\\site-packages\\seaborn\\_decorators.py:36: FutureWarning: Pass the following variables as keyword args: x, y. From version 0.12, the only valid positional argument will be `data`, and passing other arguments without an explicit keyword will result in an error or misinterpretation.\n",
      "  warnings.warn(\n"
     ]
    },
    {
     "data": {
      "text/plain": [
       "Text(0, 0.5, 'Residuals')"
      ]
     },
     "execution_count": 104,
     "metadata": {},
     "output_type": "execute_result"
    },
    {
     "data": {
      "image/png": "[encoded data removed]",
      "text/plain": [
       "<Figure size 432x288 with 1 Axes>"
      ]
     },
     "metadata": {
      "needs_background": "light"
     },
     "output_type": "display_data"
    }
   ],
   "source": [
    "# 잔차도 (다른 방법)\n",
    "\n",
    "#pip install seaborn\n",
    "import seaborn as sns\n",
    "\n",
    "sns.residplot(fit.fittedvalues, Cars['Price'], data=Cars,\n",
    "              lowess=True, # 잔차 선을 추가함\n",
    "                            # 선형회귀 모형은 기울기가 0인 직선을 가지는 것이 이상적임\n",
    "                            # 활모양을 지니는 것은 데이터의 비선형적인 특징 중 일부를 포착하지 못했다는 뜻\n",
    "              scatter_kws={'alpha': 0.5}, # 점의 투명도\n",
    "              line_kws={'color': 'red', 'lw': 1, 'alpha': 0.8}) # 잔차 선의 스타일 지정\n",
    "\n",
    "plt.title('Residuals vs Fitted')\n",
    "plt.xlabel('Fitted values', fontsize=12)\n",
    "plt.ylabel('Residuals',fontsize=12)"
   ]
  },
  {
   "cell_type": "code",
   "execution_count": 98,
   "metadata": {},
   "outputs": [
    {
     "data": {
      "image/png": "[encoded data removed]",
      "text/plain": [
       "<Figure size 432x288 with 1 Axes>"
      ]
     },
     "metadata": {
      "needs_background": "light"
     },
     "output_type": "display_data"
    }
   ],
   "source": [
    "# Q-Q plot\n",
    "# 잔차가 정규분포를 따르는지 확인\n",
    "\n",
    "import statsmodels.api as sm \n",
    "import pylab as py\n",
    "\n",
    "sm.qqplot(fit.resid, line=\"r\", alpha=0.4) \n",
    "# line은 참조선을 그리는 것으로 '45'(45도 선), 's'(표준화된 라인), 'r'(회귀선), 'q'(사분위수를 통과하는 선) 옵션이 있음\n",
    "py.show()"
   ]
  },
  {
   "cell_type": "code",
   "execution_count": 105,
   "metadata": {},
   "outputs": [
    {
     "name": "stderr",
     "output_type": "stream",
     "text": [
      "C:\\Users\\ty009\\anaconda3\\envs\\ADP\\lib\\site-packages\\seaborn\\_decorators.py:36: FutureWarning: Pass the following variables as keyword args: x, y. From version 0.12, the only valid positional argument will be `data`, and passing other arguments without an explicit keyword will result in an error or misinterpretation.\n",
      "  warnings.warn(\n"
     ]
    },
    {
     "data": {
      "text/plain": [
       "Text(0, 0.5, '$\\\\sqrt{|Standardized Residuals|}$')"
      ]
     },
     "execution_count": 105,
     "metadata": {},
     "output_type": "execute_result"
    },
    {
     "data": {
      "image/png": "[encoded data removed]",
      "text/plain": [
       "<Figure size 432x288 with 1 Axes>"
      ]
     },
     "metadata": {
      "needs_background": "light"
     },
     "output_type": "display_data"
    }
   ],
   "source": [
    "# Scale-Location plot\n",
    "# 잔차가 등분산성을 벗어났는지 확인\n",
    "\n",
    "import numpy as np\n",
    "\n",
    "residuals_abs = np.abs(fit.get_influence().resid_studentized_internal)\n",
    "# OLSResults.get_influence() : 영향 및 특이치 측정을 계산\n",
    "# OLSInfluence.resid_studentized_internal : 분산을 사용하여 잔차를 스튜던트화(통계를 표본 표준 편차로 나눔) 함\n",
    "# np.abs() : 절대 값 계산\n",
    "# np.sqrt() : 제곱근 반환\n",
    "\n",
    "plt.scatter(fit.fittedvalues, np.sqrt(residuals_abs), alpha=0.5)\n",
    "sns.regplot(fit.fittedvalues, np.sqrt(residuals_abs),\n",
    "            scatter=False,\n",
    "            ci=False,\n",
    "            lowess=True,\n",
    "            line_kws={'color': 'red', 'lw': 1, 'alpha': 0.8});\n",
    "plt.title('Scale-Location')\n",
    "plt.xlabel('Fitted values', fontsize=12)\n",
    "plt.ylabel('$\\sqrt{|Standardized Residuals|}$', fontsize=12)"
   ]
  },
  {
   "cell_type": "code",
   "execution_count": 107,
   "metadata": {},
   "outputs": [
    {
     "data": {
      "text/plain": [
       "<StemContainer object of 3 artists>"
      ]
     },
     "execution_count": 107,
     "metadata": {},
     "output_type": "execute_result"
    },
    {
     "data": {
      "image/png": "[encoded data removed]",
      "text/plain": [
       "<Figure size 432x288 with 1 Axes>"
      ]
     },
     "metadata": {
      "needs_background": "light"
     },
     "output_type": "display_data"
    }
   ],
   "source": [
    "# Cook's distance\n",
    "# 한 관측치가 회귀 모형에 미치는 영향을 나타냄\n",
    "# 영향이 1 이상인 경우 매우 큰 영향을 주는 관측값으로 간주함\n",
    "\n",
    "influence = fit.get_influence()\n",
    "#c is the distance and p is p-value\n",
    "(c, p) = influence.cooks_distance\n",
    "plt.stem(np.arange(len(c)), c, markerfmt=\",\")"
   ]
  },
  {
   "cell_type": "code",
   "execution_count": 115,
   "metadata": {},
   "outputs": [
    {
     "data": {
      "image/png": "[encoded data removed]",
      "text/plain": [
       "<Figure size 432x288 with 1 Axes>"
      ]
     },
     "metadata": {
      "needs_background": "light"
     },
     "output_type": "display_data"
    }
   ],
   "source": [
    "# Residuals & Leverage plot\n",
    "# 관측치가 다른 관측치 집단으로부터 떨어진 정도를 나타냄\n",
    "# 쿡의 거리가 0.5 이상인 것들은 예측치를 크게 벗어난 관측치임 (이를 제거하고 다시 분석 수행하기도 함)\n",
    "\n",
    "from statsmodels.graphics.regressionplots import plot_leverage_resid2\n",
    "plot_leverage_resid2(fit,)\n",
    "plt.show()"
   ]
  },
  {
   "cell_type": "code",
   "execution_count": 125,
   "metadata": {},
   "outputs": [
    {
     "name": "stderr",
     "output_type": "stream",
     "text": [
      "C:\\Users\\ty009\\anaconda3\\envs\\ADP\\lib\\site-packages\\seaborn\\_decorators.py:36: FutureWarning: Pass the following variables as keyword args: x, y. From version 0.12, the only valid positional argument will be `data`, and passing other arguments without an explicit keyword will result in an error or misinterpretation.\n",
      "  warnings.warn(\n"
     ]
    },
    {
     "data": {
      "image/png": "[encoded data removed]",
      "text/plain": [
       "<Figure size 432x288 with 1 Axes>"
      ]
     },
     "metadata": {
      "needs_background": "light"
     },
     "output_type": "display_data"
    }
   ],
   "source": [
    "# Residuals & Leverage plot (다른 방법)\n",
    "# 쿡의 거리가 0.5 이상인 것들을 쉽게 확인 가능\n",
    "\n",
    "influence = fit.get_influence()\n",
    "sns.regplot(influence.hat_matrix_diag, influence.resid_studentized_internal,\n",
    "            scatter=True,\n",
    "            lowess=True,\n",
    "            line_kws={'color': 'red', 'lw': 1, 'alpha': 0.8});"
   ]
  }
 ],
 "metadata": {
  "kernelspec": {
   "display_name": "Python 3",
   "language": "python",
   "name": "python3"
  },
  "language_info": {
   "codemirror_mode": {
    "name": "ipython",
    "version": 3
   },
   "file_extension": ".py",
   "mimetype": "text/x-python",
   "name": "python",
   "nbconvert_exporter": "python",
   "pygments_lexer": "ipython3",
   "version": "3.8.3"
  }
 },
 "nbformat": 4,
 "nbformat_minor": 4
}
